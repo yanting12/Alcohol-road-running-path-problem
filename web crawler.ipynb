{
 "cells": [
  {
   "cell_type": "code",
   "execution_count": 50,
   "id": "5b0f421d",
   "metadata": {},
   "outputs": [],
   "source": [
    "from  selenium import webdriver\n",
    "from  selenium.webdriver.common.keys import Keys\n",
    "from selenium.webdriver.common.by import By\n",
    "from selenium.webdriver.support.ui import WebDriverWait\n",
    "from selenium.webdriver.support import expected_conditions as EC\n",
    "import time\n",
    "from selenium.webdriver import ActionChains\n",
    "import numpy as np\n",
    "import selenium.webdriver.support.ui as ui"
   ]
  },
  {
   "cell_type": "code",
   "execution_count": 12,
   "id": "2c7e869f",
   "metadata": {},
   "outputs": [],
   "source": [
    "path=\"C:/Users/yanti/Desktop/python爬蟲/chromedriver_win32/chromedriver.exe\" ##補丁位置"
   ]
  },
  {
   "cell_type": "code",
   "execution_count": 13,
   "id": "015013aa",
   "metadata": {},
   "outputs": [
    {
     "name": "stderr",
     "output_type": "stream",
     "text": [
      "C:\\Users\\yanti\\anaconda3\\envs\\tf2.0\\lib\\site-packages\\ipykernel_launcher.py:1: DeprecationWarning: executable_path has been deprecated, please pass in a Service object\n",
      "  \"\"\"Entry point for launching an IPython kernel.\n"
     ]
    }
   ],
   "source": [
    "driver=webdriver.Chrome(path)    #開啟瀏覽器\n",
    "driver.get(\"https://www.google.com/maps/search/%E4%BE%BF%E5%88%A9%E5%95%86%E5%BA%97/@25.0390019,121.5431273,16z/data=!4m8!2m7!3m5!1z5L6_5Yip5ZWG5bqX!2s25.0373,+121.5452!4m2!1d121.5452011!2d25.0373064!6e2\") "
   ]
  },
  {
   "cell_type": "code",
   "execution_count": 14,
   "id": "506cd476",
   "metadata": {},
   "outputs": [
    {
     "name": "stdout",
     "output_type": "stream",
     "text": [
      "便利商店 - Google 地圖\n"
     ]
    }
   ],
   "source": [
    "print(driver.title) "
   ]
  },
  {
   "cell_type": "code",
   "execution_count": 15,
   "id": "2013af09",
   "metadata": {},
   "outputs": [
    {
     "name": "stderr",
     "output_type": "stream",
     "text": [
      "C:\\Users\\yanti\\anaconda3\\envs\\tf2.0\\lib\\site-packages\\ipykernel_launcher.py:1: DeprecationWarning: find_elements_by_class_name is deprecated. Please use find_elements(by=By.CLASS_NAME, value=name) instead\n",
      "  \"\"\"Entry point for launching an IPython kernel.\n"
     ]
    }
   ],
   "source": [
    "eles = driver.find_elements_by_class_name('V0h1Ob-haAclf')   ##找出相關class進行便利商店的店名爬蟲\n",
    "a=[]\n",
    "for ele in eles:\n",
    "    b=ele.text                     #將屬性轉為text\n",
    "    a.append(b.split(\"\\n\",-1)[0])  #將店名放入list \n",
    "time.sleep(3)                      #設置暫停時間\n",
    "           \n",
    "driver.quit()                     "
   ]
  },
  {
   "cell_type": "code",
   "execution_count": 17,
   "id": "0528176e",
   "metadata": {},
   "outputs": [
    {
     "data": {
      "text/plain": [
       "['7-ELEVEN 豐安門市',\n",
       " '全家便利商店 義興店',\n",
       " '全家便利商店 復豐店',\n",
       " '7-ELEVEN 信興門市',\n",
       " '7-ELEVEN 信安門市',\n",
       " '全家便利商店 興南店',\n",
       " '萊爾富便利商店 大安仁醫店',\n",
       " '全家便利商店 義安店']"
      ]
     },
     "execution_count": 17,
     "metadata": {},
     "output_type": "execute_result"
    }
   ],
   "source": [
    "a"
   ]
  },
  {
   "cell_type": "code",
   "execution_count": 18,
   "id": "0149a6f4",
   "metadata": {},
   "outputs": [],
   "source": [
    "a.append(\"全家便利商店 興仁店\")         #湊齊扣掉頭尾總共時間便利商店\n",
    "a.append(\"全家便利商店 仁慈店\")\n",
    "a.append(\"臺北市立聯合醫院 仁愛院區\")\n",
    "a.append(\"台北福華大飯店\")"
   ]
  },
  {
   "cell_type": "code",
   "execution_count": 19,
   "id": "1e96d4b7",
   "metadata": {},
   "outputs": [
    {
     "data": {
      "text/plain": [
       "12"
      ]
     },
     "execution_count": 19,
     "metadata": {},
     "output_type": "execute_result"
    }
   ],
   "source": [
    "len(a)"
   ]
  },
  {
   "cell_type": "code",
   "execution_count": 53,
   "id": "7b6582c9",
   "metadata": {},
   "outputs": [
    {
     "name": "stderr",
     "output_type": "stream",
     "text": [
      "C:\\Users\\yanti\\anaconda3\\envs\\tf2.0\\lib\\site-packages\\ipykernel_launcher.py:1: DeprecationWarning: executable_path has been deprecated, please pass in a Service object\n",
      "  \"\"\"Entry point for launching an IPython kernel.\n"
     ]
    }
   ],
   "source": [
    "driver1=webdriver.Chrome(path) ##開啟瀏覽器\n",
    "driver1.get(\"https://www.google.com/maps/dir///@25.003955,121.443828,15z/data=!4m2!4m1!3e2?hl=zh-TW\")  #讀取網址"
   ]
  },
  {
   "cell_type": "code",
   "execution_count": 54,
   "id": "29c9bb6c",
   "metadata": {},
   "outputs": [],
   "source": [
    "dist=np.zeros(144)          #建立12*12空的矩陣\n",
    "dist=dist.reshape(12,12)     \n",
    "\n",
    "for i in range(10):\n",
    "    for j in range(10):\n",
    "        if i==j:\n",
    "            dist[i][j]=0\n",
    "        else:\n",
    "            \n",
    "            #找到搜尋欄\n",
    "            search1=driver1.find_element(By.CLASS_NAME,\"tactile-searchbox-input\")   \n",
    "        \n",
    "            #輸入a list裡面的店名\n",
    "            search1.send_keys(a[i])                                             \n",
    "            \n",
    "            #找到搜尋欄\n",
    "            search2=driver1.find_element(By.XPATH,\"/html/body/div[3]/div[9]/div[3]/div[1]/div[2]/div/div[3]/div[1]/div[2]/div[2]/div[1]/div/input\")  \n",
    "            \n",
    "            #輸入a list裡面的店名\n",
    "            search2.send_keys(a[j])\n",
    "            \n",
    "            #找到按鍵\n",
    "            search_button = driver1.find_element(By.XPATH,\"/html/body/div[3]/div[9]/div[3]/div[1]/div[2]/div/div[3]/div[1]/div[2]/div[2]/button[1]\").send_keys(u'\\ue007')\n",
    "           \n",
    "            \n",
    "            wait = ui.WebDriverWait(driver,10)\n",
    "            #等待網頁載入\n",
    "            wait.until(lambda driver: driver1.find_element(By.CLASS_NAME,\"ivN21e\")) \n",
    "            #找到距離\n",
    "            dis=driver1.find_element(By.CLASS_NAME,\"ivN21e\")   \n",
    "            \n",
    "            #將搜尋的距離放入矩陣\n",
    "            dist[i][j]=int(float(dis.text.split(\" \",-1)[0]))\n",
    "\n",
    "            search1.clear()  #清空搜尋欄\n",
    "            search2.clear()  #清空搜尋欄"
   ]
  },
  {
   "cell_type": "code",
   "execution_count": 55,
   "id": "2edea25e",
   "metadata": {},
   "outputs": [
    {
     "data": {
      "text/plain": [
       "array([[  0., 350., 100., 500., 350., 400., 250., 600., 400., 400.,   0.,\n",
       "          0.],\n",
       "       [350.,   0., 350., 160., 300., 100., 650., 350., 650., 750.,   0.,\n",
       "          0.],\n",
       "       [100., 350.,   0., 500., 450., 450., 260., 750., 290., 400.,   0.,\n",
       "          0.],\n",
       "       [500., 160., 500.,   0., 270., 180., 750., 280., 750., 700.,   0.,\n",
       "          0.],\n",
       "       [400., 300., 450., 270.,   0., 400., 500., 250., 750., 450.,   0.,\n",
       "          0.],\n",
       "       [400., 100., 400., 180., 400.,   0., 700., 450., 700., 850.,   0.,\n",
       "          0.],\n",
       "       [250., 650., 260., 750., 500., 700.,   0., 750., 300., 270.,   0.,\n",
       "          0.],\n",
       "       [600., 350., 750., 280., 250., 450., 750.,   0.,   1., 650.,   0.,\n",
       "          0.],\n",
       "       [500., 750., 400., 850., 750., 800., 400.,   1.,   0., 550.,   0.,\n",
       "          0.],\n",
       "       [400., 750., 400., 700., 450., 850., 270., 650., 550.,   0.,   0.,\n",
       "          0.],\n",
       "       [  0.,   0.,   0.,   0.,   0.,   0.,   0.,   0.,   0.,   0.,   0.,\n",
       "          0.],\n",
       "       [  0.,   0.,   0.,   0.,   0.,   0.,   0.,   0.,   0.,   0.,   0.,\n",
       "          0.]])"
      ]
     },
     "execution_count": 55,
     "metadata": {},
     "output_type": "execute_result"
    }
   ],
   "source": [
    "dist"
   ]
  },
  {
   "cell_type": "code",
   "execution_count": 56,
   "id": "a40635d0",
   "metadata": {},
   "outputs": [],
   "source": [
    "import pandas as pd "
   ]
  },
  {
   "cell_type": "code",
   "execution_count": 58,
   "id": "61b279fc",
   "metadata": {},
   "outputs": [
    {
     "data": {
      "text/html": [
       "<div>\n",
       "<style scoped>\n",
       "    .dataframe tbody tr th:only-of-type {\n",
       "        vertical-align: middle;\n",
       "    }\n",
       "\n",
       "    .dataframe tbody tr th {\n",
       "        vertical-align: top;\n",
       "    }\n",
       "\n",
       "    .dataframe thead th {\n",
       "        text-align: right;\n",
       "    }\n",
       "</style>\n",
       "<table border=\"1\" class=\"dataframe\">\n",
       "  <thead>\n",
       "    <tr style=\"text-align: right;\">\n",
       "      <th></th>\n",
       "      <th>7-ELEVEN 豐安門市</th>\n",
       "      <th>全家便利商店 義興店</th>\n",
       "      <th>全家便利商店 復豐店</th>\n",
       "      <th>7-ELEVEN 信興門市</th>\n",
       "      <th>7-ELEVEN 信安門市</th>\n",
       "      <th>全家便利商店 興南店</th>\n",
       "      <th>萊爾富便利商店 大安仁醫店</th>\n",
       "      <th>全家便利商店 義安店</th>\n",
       "      <th>全家便利商店 興仁店</th>\n",
       "      <th>全家便利商店 仁慈店</th>\n",
       "      <th>臺北市立聯合醫院 仁愛院區</th>\n",
       "      <th>台北福華大飯店</th>\n",
       "    </tr>\n",
       "  </thead>\n",
       "  <tbody>\n",
       "    <tr>\n",
       "      <th>7-ELEVEN 豐安門市</th>\n",
       "      <td>0.0</td>\n",
       "      <td>350.0</td>\n",
       "      <td>100.0</td>\n",
       "      <td>500.0</td>\n",
       "      <td>350.0</td>\n",
       "      <td>400.0</td>\n",
       "      <td>250.0</td>\n",
       "      <td>600.0</td>\n",
       "      <td>400.0</td>\n",
       "      <td>400.0</td>\n",
       "      <td>0.0</td>\n",
       "      <td>0.0</td>\n",
       "    </tr>\n",
       "    <tr>\n",
       "      <th>全家便利商店 義興店</th>\n",
       "      <td>350.0</td>\n",
       "      <td>0.0</td>\n",
       "      <td>350.0</td>\n",
       "      <td>160.0</td>\n",
       "      <td>300.0</td>\n",
       "      <td>100.0</td>\n",
       "      <td>650.0</td>\n",
       "      <td>350.0</td>\n",
       "      <td>650.0</td>\n",
       "      <td>750.0</td>\n",
       "      <td>0.0</td>\n",
       "      <td>0.0</td>\n",
       "    </tr>\n",
       "    <tr>\n",
       "      <th>全家便利商店 復豐店</th>\n",
       "      <td>100.0</td>\n",
       "      <td>350.0</td>\n",
       "      <td>0.0</td>\n",
       "      <td>500.0</td>\n",
       "      <td>450.0</td>\n",
       "      <td>450.0</td>\n",
       "      <td>260.0</td>\n",
       "      <td>750.0</td>\n",
       "      <td>290.0</td>\n",
       "      <td>400.0</td>\n",
       "      <td>0.0</td>\n",
       "      <td>0.0</td>\n",
       "    </tr>\n",
       "    <tr>\n",
       "      <th>7-ELEVEN 信興門市</th>\n",
       "      <td>500.0</td>\n",
       "      <td>160.0</td>\n",
       "      <td>500.0</td>\n",
       "      <td>0.0</td>\n",
       "      <td>270.0</td>\n",
       "      <td>180.0</td>\n",
       "      <td>750.0</td>\n",
       "      <td>280.0</td>\n",
       "      <td>750.0</td>\n",
       "      <td>700.0</td>\n",
       "      <td>0.0</td>\n",
       "      <td>0.0</td>\n",
       "    </tr>\n",
       "    <tr>\n",
       "      <th>7-ELEVEN 信安門市</th>\n",
       "      <td>400.0</td>\n",
       "      <td>300.0</td>\n",
       "      <td>450.0</td>\n",
       "      <td>270.0</td>\n",
       "      <td>0.0</td>\n",
       "      <td>400.0</td>\n",
       "      <td>500.0</td>\n",
       "      <td>250.0</td>\n",
       "      <td>750.0</td>\n",
       "      <td>450.0</td>\n",
       "      <td>0.0</td>\n",
       "      <td>0.0</td>\n",
       "    </tr>\n",
       "    <tr>\n",
       "      <th>全家便利商店 興南店</th>\n",
       "      <td>400.0</td>\n",
       "      <td>100.0</td>\n",
       "      <td>400.0</td>\n",
       "      <td>180.0</td>\n",
       "      <td>400.0</td>\n",
       "      <td>0.0</td>\n",
       "      <td>700.0</td>\n",
       "      <td>450.0</td>\n",
       "      <td>700.0</td>\n",
       "      <td>850.0</td>\n",
       "      <td>0.0</td>\n",
       "      <td>0.0</td>\n",
       "    </tr>\n",
       "    <tr>\n",
       "      <th>萊爾富便利商店 大安仁醫店</th>\n",
       "      <td>250.0</td>\n",
       "      <td>650.0</td>\n",
       "      <td>260.0</td>\n",
       "      <td>750.0</td>\n",
       "      <td>500.0</td>\n",
       "      <td>700.0</td>\n",
       "      <td>0.0</td>\n",
       "      <td>750.0</td>\n",
       "      <td>300.0</td>\n",
       "      <td>270.0</td>\n",
       "      <td>0.0</td>\n",
       "      <td>0.0</td>\n",
       "    </tr>\n",
       "    <tr>\n",
       "      <th>全家便利商店 義安店</th>\n",
       "      <td>600.0</td>\n",
       "      <td>350.0</td>\n",
       "      <td>750.0</td>\n",
       "      <td>280.0</td>\n",
       "      <td>250.0</td>\n",
       "      <td>450.0</td>\n",
       "      <td>750.0</td>\n",
       "      <td>0.0</td>\n",
       "      <td>1.0</td>\n",
       "      <td>650.0</td>\n",
       "      <td>0.0</td>\n",
       "      <td>0.0</td>\n",
       "    </tr>\n",
       "    <tr>\n",
       "      <th>全家便利商店 興仁店</th>\n",
       "      <td>500.0</td>\n",
       "      <td>750.0</td>\n",
       "      <td>400.0</td>\n",
       "      <td>850.0</td>\n",
       "      <td>750.0</td>\n",
       "      <td>800.0</td>\n",
       "      <td>400.0</td>\n",
       "      <td>1.0</td>\n",
       "      <td>0.0</td>\n",
       "      <td>550.0</td>\n",
       "      <td>0.0</td>\n",
       "      <td>0.0</td>\n",
       "    </tr>\n",
       "    <tr>\n",
       "      <th>全家便利商店 仁慈店</th>\n",
       "      <td>400.0</td>\n",
       "      <td>750.0</td>\n",
       "      <td>400.0</td>\n",
       "      <td>700.0</td>\n",
       "      <td>450.0</td>\n",
       "      <td>850.0</td>\n",
       "      <td>270.0</td>\n",
       "      <td>650.0</td>\n",
       "      <td>550.0</td>\n",
       "      <td>0.0</td>\n",
       "      <td>0.0</td>\n",
       "      <td>0.0</td>\n",
       "    </tr>\n",
       "    <tr>\n",
       "      <th>臺北市立聯合醫院 仁愛院區</th>\n",
       "      <td>0.0</td>\n",
       "      <td>0.0</td>\n",
       "      <td>0.0</td>\n",
       "      <td>0.0</td>\n",
       "      <td>0.0</td>\n",
       "      <td>0.0</td>\n",
       "      <td>0.0</td>\n",
       "      <td>0.0</td>\n",
       "      <td>0.0</td>\n",
       "      <td>0.0</td>\n",
       "      <td>0.0</td>\n",
       "      <td>0.0</td>\n",
       "    </tr>\n",
       "    <tr>\n",
       "      <th>台北福華大飯店</th>\n",
       "      <td>0.0</td>\n",
       "      <td>0.0</td>\n",
       "      <td>0.0</td>\n",
       "      <td>0.0</td>\n",
       "      <td>0.0</td>\n",
       "      <td>0.0</td>\n",
       "      <td>0.0</td>\n",
       "      <td>0.0</td>\n",
       "      <td>0.0</td>\n",
       "      <td>0.0</td>\n",
       "      <td>0.0</td>\n",
       "      <td>0.0</td>\n",
       "    </tr>\n",
       "  </tbody>\n",
       "</table>\n",
       "</div>"
      ],
      "text/plain": [
       "               7-ELEVEN 豐安門市  全家便利商店 義興店  全家便利商店 復豐店  7-ELEVEN 信興門市  \\\n",
       "7-ELEVEN 豐安門市            0.0       350.0       100.0          500.0   \n",
       "全家便利商店 義興店             350.0         0.0       350.0          160.0   \n",
       "全家便利商店 復豐店             100.0       350.0         0.0          500.0   \n",
       "7-ELEVEN 信興門市          500.0       160.0       500.0            0.0   \n",
       "7-ELEVEN 信安門市          400.0       300.0       450.0          270.0   \n",
       "全家便利商店 興南店             400.0       100.0       400.0          180.0   \n",
       "萊爾富便利商店 大安仁醫店          250.0       650.0       260.0          750.0   \n",
       "全家便利商店 義安店             600.0       350.0       750.0          280.0   \n",
       "全家便利商店 興仁店             500.0       750.0       400.0          850.0   \n",
       "全家便利商店 仁慈店             400.0       750.0       400.0          700.0   \n",
       "臺北市立聯合醫院 仁愛院區            0.0         0.0         0.0            0.0   \n",
       "台北福華大飯店                  0.0         0.0         0.0            0.0   \n",
       "\n",
       "               7-ELEVEN 信安門市  全家便利商店 興南店  萊爾富便利商店 大安仁醫店  全家便利商店 義安店  \\\n",
       "7-ELEVEN 豐安門市          350.0       400.0          250.0       600.0   \n",
       "全家便利商店 義興店             300.0       100.0          650.0       350.0   \n",
       "全家便利商店 復豐店             450.0       450.0          260.0       750.0   \n",
       "7-ELEVEN 信興門市          270.0       180.0          750.0       280.0   \n",
       "7-ELEVEN 信安門市            0.0       400.0          500.0       250.0   \n",
       "全家便利商店 興南店             400.0         0.0          700.0       450.0   \n",
       "萊爾富便利商店 大安仁醫店          500.0       700.0            0.0       750.0   \n",
       "全家便利商店 義安店             250.0       450.0          750.0         0.0   \n",
       "全家便利商店 興仁店             750.0       800.0          400.0         1.0   \n",
       "全家便利商店 仁慈店             450.0       850.0          270.0       650.0   \n",
       "臺北市立聯合醫院 仁愛院區            0.0         0.0            0.0         0.0   \n",
       "台北福華大飯店                  0.0         0.0            0.0         0.0   \n",
       "\n",
       "               全家便利商店 興仁店  全家便利商店 仁慈店  臺北市立聯合醫院 仁愛院區  台北福華大飯店  \n",
       "7-ELEVEN 豐安門市       400.0       400.0            0.0      0.0  \n",
       "全家便利商店 義興店          650.0       750.0            0.0      0.0  \n",
       "全家便利商店 復豐店          290.0       400.0            0.0      0.0  \n",
       "7-ELEVEN 信興門市       750.0       700.0            0.0      0.0  \n",
       "7-ELEVEN 信安門市       750.0       450.0            0.0      0.0  \n",
       "全家便利商店 興南店          700.0       850.0            0.0      0.0  \n",
       "萊爾富便利商店 大安仁醫店       300.0       270.0            0.0      0.0  \n",
       "全家便利商店 義安店            1.0       650.0            0.0      0.0  \n",
       "全家便利商店 興仁店            0.0       550.0            0.0      0.0  \n",
       "全家便利商店 仁慈店          550.0         0.0            0.0      0.0  \n",
       "臺北市立聯合醫院 仁愛院區         0.0         0.0            0.0      0.0  \n",
       "台北福華大飯店               0.0         0.0            0.0      0.0  "
      ]
     },
     "execution_count": 58,
     "metadata": {},
     "output_type": "execute_result"
    }
   ],
   "source": [
    "df=pd.DataFrame(dist,index=a, columns=a)"
   ]
  },
  {
   "cell_type": "code",
   "execution_count": 59,
   "id": "cd02eae3",
   "metadata": {},
   "outputs": [
    {
     "data": {
      "text/plain": [
       "['7-ELEVEN 豐安門市',\n",
       " '全家便利商店 義興店',\n",
       " '全家便利商店 復豐店',\n",
       " '7-ELEVEN 信興門市',\n",
       " '7-ELEVEN 信安門市',\n",
       " '全家便利商店 興南店',\n",
       " '萊爾富便利商店 大安仁醫店',\n",
       " '全家便利商店 義安店',\n",
       " '全家便利商店 興仁店',\n",
       " '全家便利商店 仁慈店',\n",
       " '臺北市立聯合醫院 仁愛院區',\n",
       " '台北福華大飯店']"
      ]
     },
     "execution_count": 59,
     "metadata": {},
     "output_type": "execute_result"
    }
   ],
   "source": [
    "df.to_csv(\"距離矩陣.csv\") ##將距離矩陣匯出csv"
   ]
  },
  {
   "cell_type": "code",
   "execution_count": null,
   "id": "68cb5d9b",
   "metadata": {},
   "outputs": [],
   "source": []
  }
 ],
 "metadata": {
  "kernelspec": {
   "display_name": "Python 3 (ipykernel)",
   "language": "python",
   "name": "python3"
  },
  "language_info": {
   "codemirror_mode": {
    "name": "ipython",
    "version": 3
   },
   "file_extension": ".py",
   "mimetype": "text/x-python",
   "name": "python",
   "nbconvert_exporter": "python",
   "pygments_lexer": "ipython3",
   "version": "3.7.11"
  }
 },
 "nbformat": 4,
 "nbformat_minor": 5
}
